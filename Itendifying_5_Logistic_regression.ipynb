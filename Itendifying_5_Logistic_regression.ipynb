{
  "nbformat": 4,
  "nbformat_minor": 0,
  "metadata": {
    "colab": {
      "name": "Itendifying 5 Logistic regression.ipynb",
      "provenance": []
    },
    "kernelspec": {
      "name": "python3",
      "display_name": "Python 3"
    },
    "language_info": {
      "name": "python"
    }
  },
  "cells": [
    {
      "cell_type": "markdown",
      "source": [
        "This colab implements logistic regression for recognizing hand-written digits. For this task, we will be using MNIST training dataset.\n",
        " We will be solving two problems:\n",
        "# Binary classification problem to detect if the image contains digit 5 (label 1) or not (label 0).\n",
        "# Multiclass classification problem to detect all 10 handwritten digits."
      ],
      "metadata": {
        "id": "E99Aq8cDmBAc"
      }
    },
    {
      "cell_type": "markdown",
      "source": [
        "MNIST dataset can be downloaded with sklearn.datasets.fetch_openml API.\n",
        "openml.org is a public repository for machine learning data and experiments, that allows everybody to upload open datasets."
      ],
      "metadata": {
        "id": "0rIFHosDmWdz"
      }
    },
    {
      "cell_type": "code",
      "source": [
        "from sklearn.datasets import fetch_openml"
      ],
      "metadata": {
        "id": "hhNxNjrGmJZx"
      },
      "execution_count": 1,
      "outputs": []
    },
    {
      "cell_type": "markdown",
      "source": [
        "We can read documentation of `fetch_openml` by simply executing the following command:\n"
      ],
      "metadata": {
        "id": "3OwIzY5qmmQq"
      }
    },
    {
      "cell_type": "code",
      "source": [
        "?fetch_openml"
      ],
      "metadata": {
        "id": "3CXj3D7Tmnun"
      },
      "execution_count": 2,
      "outputs": []
    },
    {
      "cell_type": "markdown",
      "source": [
        "\n",
        "We can load the dataset by specifying the dataset id.  For MNIST dataset, the id is `minist_784`. "
      ],
      "metadata": {
        "id": "BZYgn79lm4-c"
      }
    },
    {
      "cell_type": "code",
      "source": [
        "images, labels = fetch_openml('mnist_784',version=1,return_X_y=True)\n",
        "\n",
        "# convert to numpy array\n",
        "image_array = images.to_numpy()\n",
        "label_array = labels.to_numpy()"
      ],
      "metadata": {
        "id": "eaXZ0bbFnAyQ"
      },
      "execution_count": 3,
      "outputs": []
    },
    {
      "cell_type": "markdown",
      "source": [
        "Now divide the dataset into training and test.  Let's use\n",
        "first 60,000 examples as training and the rest as test examples."
      ],
      "metadata": {
        "id": "iJO1HO3NmFAF"
      }
    },
    {
      "cell_type": "code",
      "source": [
        "images_train, images_test, label_train, label_test = (image_array[:60000],image_array[60000:],label_array[:60000],label_array[60000:])\n",
        "import numpy as np\n",
        "\n",
        "np.unique(label_train)\n"
      ],
      "metadata": {
        "colab": {
          "base_uri": "https://localhost:8080/"
        },
        "id": "uzQSb-Mjm8fV",
        "outputId": "4e4c3877-d5ea-4856-e177-1e567c5564cb"
      },
      "execution_count": 6,
      "outputs": [
        {
          "output_type": "execute_result",
          "data": {
            "text/plain": [
              "array(['0', '1', '2', '3', '4', '5', '6', '7', '8', '9'], dtype=object)"
            ]
          },
          "metadata": {},
          "execution_count": 6
        }
      ]
    },
    {
      "cell_type": "markdown",
      "source": [
        "Let's make training data for the first task, which is detecting 5 from the image of a digit."
      ],
      "metadata": {
        "id": "2BwUKW80nmA0"
      }
    },
    {
      "cell_type": "code",
      "source": [
        "train_label_5 = np.zeros((len(label_train)))\n",
        "test_label_5 = np.zeros((len(label_test)))\n",
        "\n",
        "train_index_label_5 = np.where(label_train =='5')\n",
        "train_label_5[train_index_label_5] = 1\n",
        "\n",
        "test_index_label_5 = np.where(label_test == '5')\n",
        "test_label_5[test_index_label_5] = 1"
      ],
      "metadata": {
        "id": "KOi5I5m4nm8P"
      },
      "execution_count": 7,
      "outputs": []
    },
    {
      "cell_type": "markdown",
      "source": [
        "Now we have dataset for the 5-detector task.\n",
        "\n",
        "\n",
        "*   Print the shapes of training data - images and labels.\n",
        "\n",
        "\n"
      ],
      "metadata": {
        "id": "4g-cWj0Pn9xI"
      }
    },
    {
      "cell_type": "code",
      "source": [
        "images_train.shape"
      ],
      "metadata": {
        "colab": {
          "base_uri": "https://localhost:8080/"
        },
        "id": "Uv-fcp_hoC-3",
        "outputId": "ad7fea82-0a15-45f1-e475-f0c0374b794b"
      },
      "execution_count": 8,
      "outputs": [
        {
          "output_type": "execute_result",
          "data": {
            "text/plain": [
              "(60000, 784)"
            ]
          },
          "metadata": {},
          "execution_count": 8
        }
      ]
    },
    {
      "cell_type": "code",
      "source": [
        "len(train_label_5)"
      ],
      "metadata": {
        "colab": {
          "base_uri": "https://localhost:8080/"
        },
        "id": "g3dCK_xqoHyY",
        "outputId": "ab52d54f-b89d-4e4a-c11d-412b778861a0"
      },
      "execution_count": 9,
      "outputs": [
        {
          "output_type": "execute_result",
          "data": {
            "text/plain": [
              "60000"
            ]
          },
          "metadata": {},
          "execution_count": 9
        }
      ]
    },
    {
      "cell_type": "code",
      "source": [
        "assert images_train.shape[0] == len(train_label_5)"
      ],
      "metadata": {
        "id": "LhH9OPQnoK36"
      },
      "execution_count": 10,
      "outputs": []
    },
    {
      "cell_type": "code",
      "source": [
        "assert images_test.shape[0] == len(test_label_5)"
      ],
      "metadata": {
        "id": "NKSnQauOoO7K"
      },
      "execution_count": 11,
      "outputs": []
    },
    {
      "cell_type": "markdown",
      "source": [
        "# 5-detector Model\n",
        "We can build the logistic regression model in sklearn with the following three APIs:\n",
        "*   `sklearn.linear_model.SGDClassifier`\n",
        "*   `sklearn.linear_model.LogisticRegression`\n",
        "*   `sklearn.linear_model.RidgeClassifier`\n",
        "\n",
        "For this project, we will use sklearn.linear_model.LogisticRegression API for building the model."
      ],
      "metadata": {
        "id": "rykmtScUoTBd"
      }
    },
    {
      "cell_type": "markdown",
      "source": [
        "Before building any serious model, it's a good idea to build a baseline mode. We have `sklearn.dummy.DummyClassifier` available for that task - here we assign the most frequently appearing label in the training set to the new image through most_frequent strategy argument."
      ],
      "metadata": {
        "id": "_KpGxxSUpSr3"
      }
    },
    {
      "cell_type": "code",
      "source": [
        "from sklearn.dummy import DummyClassifier\n",
        "\n",
        "baseline_model = DummyClassifier(strategy='most_frequent') \n",
        "baseline_model.fit(images_train, train_label_5)\n",
        "print(baseline_model.score(images_train, train_label_5))"
      ],
      "metadata": {
        "colab": {
          "base_uri": "https://localhost:8080/"
        },
        "id": "bHX_a4CCpSIv",
        "outputId": "2106b363-31f2-4f75-873b-67f64e8d7a8c"
      },
      "execution_count": 12,
      "outputs": [
        {
          "output_type": "stream",
          "name": "stdout",
          "text": [
            "0.90965\n"
          ]
        }
      ]
    },
    {
      "cell_type": "markdown",
      "source": [
        "Note that the baseline accuracy is 90%."
      ],
      "metadata": {
        "id": "o8Ls84Ldpe8t"
      }
    },
    {
      "cell_type": "code",
      "source": [
        "from sklearn.linear_model import LogisticRegression\n",
        "?LogisticRegression"
      ],
      "metadata": {
        "id": "VIHKCTGlpeLs"
      },
      "execution_count": 13,
      "outputs": []
    },
    {
      "cell_type": "markdown",
      "source": [
        "We will use `MinMaxScalar` for scaling the dataset.  We can't use z-score normalization here, as we do not want to alter 0 values in the images"
      ],
      "metadata": {
        "id": "-YNIoJ6Wpmuh"
      }
    },
    {
      "cell_type": "code",
      "source": [
        "logreg_model = LogisticRegression(\n",
        "    random_state=1729, C=np.infty)"
      ],
      "metadata": {
        "id": "BXQkFvEnpXXD"
      },
      "execution_count": 14,
      "outputs": []
    },
    {
      "cell_type": "code",
      "source": [
        "from sklearn.preprocessing import MinMaxScaler\n",
        "scaler = MinMaxScaler()"
      ],
      "metadata": {
        "id": "YxS_1ORkpOdu"
      },
      "execution_count": 15,
      "outputs": []
    },
    {
      "cell_type": "markdown",
      "source": [
        "It's a good idea to put all operations in a pipeline so that they get applied consistently across training and inference times."
      ],
      "metadata": {
        "id": "E5NC7mQFpzrY"
      }
    },
    {
      "cell_type": "code",
      "source": [
        "from sklearn.pipeline import Pipeline\n",
        "\n",
        "pipe_logit = Pipeline(steps=[(\"scaler\", scaler),\n",
        "                             (\"logreg\", logreg_model)])"
      ],
      "metadata": {
        "id": "lWJ5KzmHp0iv"
      },
      "execution_count": 16,
      "outputs": []
    },
    {
      "cell_type": "markdown",
      "source": [
        "Now comes the training part:"
      ],
      "metadata": {
        "id": "v1Fp53_Lp6QP"
      }
    },
    {
      "cell_type": "code",
      "source": [
        "pipe_logit.fit(images_train, train_label_5)"
      ],
      "metadata": {
        "colab": {
          "base_uri": "https://localhost:8080/"
        },
        "id": "8L_H65_Kp7LR",
        "outputId": "09b2d52a-14db-465f-9430-328f93932137"
      },
      "execution_count": 17,
      "outputs": [
        {
          "output_type": "stream",
          "name": "stderr",
          "text": [
            "/usr/local/lib/python3.7/dist-packages/sklearn/linear_model/_logistic.py:818: ConvergenceWarning: lbfgs failed to converge (status=1):\n",
            "STOP: TOTAL NO. of ITERATIONS REACHED LIMIT.\n",
            "\n",
            "Increase the number of iterations (max_iter) or scale the data as shown in:\n",
            "    https://scikit-learn.org/stable/modules/preprocessing.html\n",
            "Please also refer to the documentation for alternative solver options:\n",
            "    https://scikit-learn.org/stable/modules/linear_model.html#logistic-regression\n",
            "  extra_warning_msg=_LOGISTIC_SOLVER_CONVERGENCE_MSG,\n"
          ]
        },
        {
          "output_type": "execute_result",
          "data": {
            "text/plain": [
              "Pipeline(steps=[('scaler', MinMaxScaler()),\n",
              "                ('logreg', LogisticRegression(C=inf, random_state=1729))])"
            ]
          },
          "metadata": {},
          "execution_count": 17
        }
      ]
    },
    {
      "cell_type": "code",
      "source": [
        "pipe_logit[-1].classes_\n",
        "# Classes"
      ],
      "metadata": {
        "colab": {
          "base_uri": "https://localhost:8080/"
        },
        "id": "Wn8KQDBoqBLl",
        "outputId": "4936f066-fce5-440c-a90d-cf0fa62b5136"
      },
      "execution_count": 18,
      "outputs": [
        {
          "output_type": "execute_result",
          "data": {
            "text/plain": [
              "array([0., 1.])"
            ]
          },
          "metadata": {},
          "execution_count": 18
        }
      ]
    },
    {
      "cell_type": "code",
      "source": [
        "pipe_logit[-1].coef_\n",
        "# Weights"
      ],
      "metadata": {
        "colab": {
          "base_uri": "https://localhost:8080/"
        },
        "id": "imth2xbgqGrS",
        "outputId": "92d360b2-ce32-445a-cb0b-02fa708945b1"
      },
      "execution_count": 19,
      "outputs": [
        {
          "output_type": "execute_result",
          "data": {
            "text/plain": [
              "array([[ 0.00000000e+00,  0.00000000e+00,  0.00000000e+00,\n",
              "         0.00000000e+00,  0.00000000e+00,  0.00000000e+00,\n",
              "         0.00000000e+00,  0.00000000e+00,  0.00000000e+00,\n",
              "         0.00000000e+00,  0.00000000e+00,  0.00000000e+00,\n",
              "        -1.63743024e-03, -1.66601307e-03, -3.74029419e-05,\n",
              "        -3.74029419e-05,  0.00000000e+00,  0.00000000e+00,\n",
              "         0.00000000e+00,  0.00000000e+00,  0.00000000e+00,\n",
              "         0.00000000e+00,  0.00000000e+00,  0.00000000e+00,\n",
              "         0.00000000e+00,  0.00000000e+00,  0.00000000e+00,\n",
              "         0.00000000e+00,  0.00000000e+00,  0.00000000e+00,\n",
              "         0.00000000e+00,  0.00000000e+00, -5.15928137e-05,\n",
              "        -5.57720865e-05, -1.53364950e-03, -1.70209467e-03,\n",
              "        -3.66416139e-03, -1.20123914e-02, -5.60537318e-02,\n",
              "        -5.25750587e-02, -7.57172806e-02, -7.49487921e-02,\n",
              "        -3.98764304e-02, -5.38785393e-02, -4.99516931e-02,\n",
              "        -2.34195943e-02, -3.63758373e-02, -3.78128520e-02,\n",
              "        -2.32480832e-02, -4.95076213e-03, -8.14668180e-04,\n",
              "        -7.30461381e-04,  0.00000000e+00,  0.00000000e+00,\n",
              "         0.00000000e+00,  0.00000000e+00,  0.00000000e+00,\n",
              "         0.00000000e+00, -1.08717516e-04, -3.02862506e-02,\n",
              "        -1.86563060e-03, -2.25914514e-03, -2.55845822e-03,\n",
              "        -2.79596405e-02, -1.41927271e-01, -2.57893260e-01,\n",
              "        -4.69193750e-01, -8.65520263e-01, -1.02960030e+00,\n",
              "        -1.34175481e+00, -1.72703894e+00, -1.52458110e+00,\n",
              "        -9.72780584e-01, -5.93698150e-01, -4.80777899e-01,\n",
              "        -7.49786043e-01, -1.06431756e+00, -8.18739803e-01,\n",
              "        -4.46936149e-01, -1.48537634e-01, -6.64064035e-02,\n",
              "        -1.10306243e-02,  0.00000000e+00,  0.00000000e+00,\n",
              "         0.00000000e+00,  0.00000000e+00, -2.37133447e-04,\n",
              "        -5.04076808e-02,  2.43012596e-01, -2.47455471e-01,\n",
              "        -1.94352791e-01, -3.96285681e-01, -6.17274761e-01,\n",
              "        -9.75481993e-01, -6.62388621e-01, -1.40379182e+00,\n",
              "        -1.12025099e-01, -7.07604493e-02, -4.24106198e-01,\n",
              "        -4.41483205e-01, -7.45552309e-01, -3.54418730e-01,\n",
              "        -2.90664661e-01, -2.99073861e-01, -1.73044487e-01,\n",
              "         9.06780941e-02, -2.76080689e-01, -1.60074047e+00,\n",
              "        -9.30689910e-01, -3.37005619e-02,  1.05120116e-02,\n",
              "         0.00000000e+00,  0.00000000e+00, -4.33114949e-03,\n",
              "        -2.82261700e-02, -1.16174064e-01, -3.16960175e-01,\n",
              "        -1.20212630e+00, -8.29695513e-01, -1.37152583e-01,\n",
              "        -9.29619673e-01, -4.65387998e-01, -2.37983288e-01,\n",
              "         7.66235127e-03,  2.86632772e-02, -8.31680256e-01,\n",
              "        -1.97040018e-01,  1.75674305e-01,  5.63794593e-02,\n",
              "        -3.66477560e-01,  2.44387888e-01, -1.66178620e-01,\n",
              "        -7.94180432e-01,  7.57119868e-01, -2.44667369e-01,\n",
              "         3.34214988e-01,  1.04664323e+00,  7.95762585e-02,\n",
              "        -6.52293921e-02, -1.62043431e-01,  0.00000000e+00,\n",
              "         0.00000000e+00, -9.22432754e-02, -1.68803526e-01,\n",
              "        -1.03943836e+00, -1.05044677e+00, -9.01496165e-01,\n",
              "         9.25332115e-03, -5.02084694e-02,  3.74066313e-02,\n",
              "        -4.33243348e-02,  1.03059233e-01, -3.83329842e-01,\n",
              "        -6.83068416e-02, -1.30896288e-01, -2.94101536e-01,\n",
              "         1.35918948e-02,  6.40350767e-02,  1.95879431e-01,\n",
              "        -4.11203620e-01,  1.01544158e+00, -3.80275221e-01,\n",
              "         7.97374436e-01,  8.65887280e-05,  1.91222231e-01,\n",
              "         4.50250831e-04,  3.64566745e-01, -1.00703368e-01,\n",
              "         0.00000000e+00, -4.42097004e-03,  3.72072455e-02,\n",
              "        -6.13513501e-01, -8.83189286e-01,  4.31075627e-01,\n",
              "         1.84666944e-01, -4.56687466e-01, -6.22912858e-01,\n",
              "         4.18959294e-02, -2.36286890e-01, -1.35763494e-01,\n",
              "        -6.84518683e-02, -1.84266486e-01,  1.49913444e-01,\n",
              "        -3.09770158e-01, -1.95961514e-01, -5.61382342e-02,\n",
              "        -1.06130555e-01,  4.49442321e-01,  9.07265856e-02,\n",
              "        -3.53531691e-01,  4.21741771e-01,  1.95187850e-01,\n",
              "         1.22634308e+00,  5.56204647e-02,  3.61640373e-01,\n",
              "         6.08904115e-02, -4.48999402e-05, -1.11530330e-02,\n",
              "        -4.97373761e-02, -7.13358161e-01, -2.15447657e+00,\n",
              "        -4.20654488e-01, -4.17431914e-01, -4.45350694e-03,\n",
              "         4.88219006e-01, -3.75072466e-01,  5.54106945e-01,\n",
              "        -2.30964033e-02,  2.69821184e-01, -4.74878362e-01,\n",
              "         3.92441650e-01, -5.88188528e-01,  1.72881403e-01,\n",
              "        -7.51580500e-02,  2.33769947e-01, -3.74038736e-01,\n",
              "        -5.57333660e-02,  6.42798598e-01,  5.32752788e-01,\n",
              "         1.21146923e-01,  3.67033499e-01,  1.61569259e+00,\n",
              "        -8.86882992e-01,  9.58756197e-02, -8.10141765e-05,\n",
              "        -4.74354996e-03, -1.24706051e-01, -9.50689253e-01,\n",
              "        -2.64180611e+00, -2.96337071e-01, -8.30761640e-02,\n",
              "        -3.92867112e-01,  3.48136035e-01, -8.20217084e-02,\n",
              "         2.09973926e-01,  2.39679031e-01, -6.12825677e-02,\n",
              "        -1.19701902e-01, -3.43734360e-01, -5.81992286e-02,\n",
              "        -2.84255499e-01,  9.40313970e-02, -2.44991484e-01,\n",
              "         4.40253802e-01,  3.87921115e-01,  1.00112853e-01,\n",
              "        -8.18663234e-01,  8.85461155e-01,  1.29216959e+00,\n",
              "         1.20141635e+00,  1.85459249e-01, -2.54281596e-01,\n",
              "        -5.54683147e-03, -1.87288620e-02, -1.27983039e-01,\n",
              "        -9.79868838e-01, -1.35239422e+00,  1.87370017e-01,\n",
              "         1.06195969e-01, -2.17035070e-01, -1.16447387e-01,\n",
              "         7.30147192e-02, -1.56691911e-01,  4.94794749e-01,\n",
              "         1.30476125e-01, -1.16153478e-01, -2.48255183e-01,\n",
              "        -5.36959859e-01, -5.83590731e-01, -3.78056762e-01,\n",
              "        -2.20669890e-01, -3.34546261e-01, -2.95534810e-01,\n",
              "         1.08019873e+00,  1.16932515e+00, -1.13367031e-01,\n",
              "         1.58015175e+00,  9.84761111e-02,  7.75581887e-02,\n",
              "        -1.11761395e-01, -5.83092501e-03, -4.32824753e-02,\n",
              "        -1.58504678e-01, -9.30474652e-01,  3.22389106e-04,\n",
              "        -4.70051841e-01, -5.23267363e-01,  7.25951868e-01,\n",
              "         4.59089872e-01,  6.09816368e-01,  3.66636838e-01,\n",
              "         2.44729658e-01,  5.86858294e-01,  3.83292176e-01,\n",
              "        -2.93024971e-01,  1.67062558e-01, -4.82524652e-01,\n",
              "        -4.67821244e-01, -7.16335365e-01, -7.45247331e-01,\n",
              "        -9.96336710e-01, -3.22307549e-01,  5.67798028e-01,\n",
              "         6.53987863e-01,  2.54151102e+00,  3.28982485e+00,\n",
              "         1.27516414e+00, -1.45167096e-01, -7.69407299e-03,\n",
              "        -2.51619858e-01, -4.28664606e-01, -1.29691742e+00,\n",
              "        -2.71529286e-01, -4.99658297e-01,  7.90895610e-01,\n",
              "        -1.57102928e-01,  1.02357269e-01,  2.01519667e-01,\n",
              "         3.36771149e-01,  2.52269873e-01,  1.23328775e-01,\n",
              "         4.23797417e-01, -7.67661251e-02, -3.02084471e-01,\n",
              "         1.65403789e-02, -3.90637498e-01, -1.39153660e-01,\n",
              "        -3.97191392e-01, -1.48789596e+00, -2.64023402e+00,\n",
              "        -1.91990287e+00,  1.36160511e+00,  2.66918731e+00,\n",
              "         5.04390501e+00,  1.59089667e+00,  1.03176071e-02,\n",
              "        -1.22681108e-03, -2.14112199e-01, -4.04580520e-01,\n",
              "        -5.90591782e-01, -2.07620859e-02, -3.43262656e-01,\n",
              "         8.76766884e-01, -1.63752752e-02,  2.90885049e-01,\n",
              "        -3.43674663e-01,  3.29509140e-01,  2.01245649e-01,\n",
              "         1.56079193e-01,  4.65800973e-01, -4.23059285e-01,\n",
              "         3.11646557e-01, -3.61698179e-01, -4.85007263e-01,\n",
              "        -3.33017045e-01, -7.95497338e-01,  1.84052989e-01,\n",
              "        -1.38938304e+00, -4.30223279e+00, -6.22604390e+00,\n",
              "        -7.39523840e+00, -5.96514886e-01,  1.40517784e+00,\n",
              "        -3.82888272e-02, -1.73857716e-03, -5.83447572e-02,\n",
              "        -1.74238519e-01, -6.22811601e-03,  4.39241047e-01,\n",
              "         8.11974038e-01, -3.30735486e-01,  5.52330044e-01,\n",
              "        -1.68856194e-01,  2.88392082e-01, -3.03938737e-02,\n",
              "         3.24549401e-01,  4.36141117e-01,  2.87901036e-01,\n",
              "        -5.78045706e-01, -2.56603551e-01, -5.38627317e-01,\n",
              "        -5.39441574e-01, -2.39631269e-02,  1.61896203e-01,\n",
              "        -1.11406891e-01,  1.35571774e-01,  7.78627708e-01,\n",
              "        -3.55689627e+00, -5.75162957e+00, -2.35821130e+00,\n",
              "         7.53485586e-02, -7.71539959e-02,  2.13759915e-01,\n",
              "        -3.37453502e-02, -6.14259911e-02,  6.49997791e-02,\n",
              "         4.24777790e-01,  1.00943403e-01, -4.90539558e-01,\n",
              "        -3.21023393e-01, -9.32764007e-02,  1.96819907e-02,\n",
              "         5.54161597e-01, -1.28160254e-01,  3.22044320e-01,\n",
              "        -2.00977638e-01, -6.97644269e-02, -1.68533395e-03,\n",
              "        -2.96233378e-01, -2.12283404e-01, -2.38951076e-01,\n",
              "        -6.12374970e-01,  3.10012036e-01, -8.77065312e-01,\n",
              "         4.37717554e-01,  1.35808695e+00, -2.40711343e-01,\n",
              "        -2.43389863e+00, -2.22400203e-01, -4.92474792e-02,\n",
              "         1.82782234e-01, -2.40943371e-03, -4.30992445e-02,\n",
              "        -2.78244219e-01,  1.92909463e-01, -7.16047750e-01,\n",
              "        -1.81370673e-01, -9.95414432e-02,  2.65814557e-01,\n",
              "         2.93692373e-01, -5.47742378e-02,  2.43714760e-02,\n",
              "         3.43822982e-01, -4.82177901e-01, -6.36665831e-01,\n",
              "        -3.42945478e-01,  4.24237642e-02, -6.72457955e-01,\n",
              "         6.49165884e-01, -2.34532004e-01, -1.13715591e-01,\n",
              "         2.88057627e-01, -9.62726054e-01,  5.03125337e-01,\n",
              "         1.40905838e+00, -1.73129742e+00, -5.14225129e-01,\n",
              "        -1.19406840e-01, -1.63739169e-01, -4.40537006e-03,\n",
              "        -7.83023365e-02, -1.07696792e-01, -3.48373966e-01,\n",
              "        -7.16218775e-02, -6.88208533e-01, -1.00445472e+00,\n",
              "        -6.39055067e-01, -3.21650896e-01,  1.27676644e-01,\n",
              "        -1.95731719e-01,  1.21418195e-01,  6.06987091e-02,\n",
              "        -4.65496346e-01, -3.95239561e-02, -6.35766523e-01,\n",
              "         1.79139412e-03, -7.95379415e-01, -2.07930203e-02,\n",
              "         9.06371142e-02, -3.36600824e-01,  7.33890848e-01,\n",
              "        -2.17069400e-01, -1.35402170e-01, -1.79490612e+00,\n",
              "        -9.92544144e-01, -2.17311256e-01,  0.00000000e+00,\n",
              "        -6.14905842e-03, -2.16389188e-01, -2.98977942e-01,\n",
              "        -4.18531352e-01,  3.88723769e-01,  1.31306241e+00,\n",
              "        -4.73228467e-01, -9.10695810e-02, -5.79724671e-01,\n",
              "        -6.00040163e-01, -5.20719150e-01, -8.85396641e-01,\n",
              "        -5.83357107e-01, -8.21955811e-01, -1.37236174e-01,\n",
              "         1.10385175e-01, -7.43098996e-02,  7.26661559e-01,\n",
              "        -1.31625860e-01,  6.55490331e-02,  1.58928407e-01,\n",
              "        -2.66534594e-01, -9.52250005e-02,  3.09377604e-01,\n",
              "        -1.87199452e+00, -5.28022349e-01, -5.66746091e-02,\n",
              "        -7.75990125e-03, -1.70030765e-02, -3.23509208e-01,\n",
              "        -6.23850657e-01,  5.91317255e-01,  1.04523607e-02,\n",
              "         4.04413202e-01,  4.59951435e-01, -5.26988938e-01,\n",
              "        -4.27396442e-01, -7.65348933e-01, -6.13536802e-01,\n",
              "         1.81103590e-01, -1.77259365e-01,  3.85051073e-01,\n",
              "        -2.70150310e-01, -1.16738608e-01,  4.33132547e-01,\n",
              "        -4.73174479e-01,  2.64685333e-01,  1.06040855e-01,\n",
              "        -2.46376104e-02,  4.80095321e-01,  7.21445537e-03,\n",
              "         3.05736151e-01, -1.52735773e+00, -3.53754871e-01,\n",
              "        -1.78873520e-01, -1.70917612e-04, -4.71059111e-02,\n",
              "         2.99185021e-01, -3.39165198e-01,  7.42901421e-01,\n",
              "        -4.86724292e-01,  3.41318734e-01, -4.20238182e-02,\n",
              "         6.32604016e-01,  3.91027439e-02,  3.21411532e-01,\n",
              "        -1.18181750e-01,  1.48999907e-01,  2.67540058e-02,\n",
              "        -2.81753772e-01,  5.86105641e-01, -2.28622223e-01,\n",
              "        -2.51381036e-01,  9.53746151e-02, -3.85511167e-01,\n",
              "         2.79903783e-01,  1.35051294e-01, -3.06796835e-01,\n",
              "         3.82984314e-01,  5.59034399e-01, -1.09276071e+00,\n",
              "        -5.54302011e-01, -1.48411658e-01,  0.00000000e+00,\n",
              "        -2.54880116e-02,  1.19995163e-01, -3.07195314e-01,\n",
              "        -2.24859625e-01,  4.60141956e-01,  4.21673270e-02,\n",
              "        -1.27939335e-01,  5.66975257e-02,  3.26601996e-01,\n",
              "        -1.99561944e-01,  7.26557993e-01, -2.63289702e-01,\n",
              "         2.25217851e-01, -2.89771301e-01, -4.46894732e-01,\n",
              "         3.62928442e-01,  1.09633726e-01,  1.78144560e-01,\n",
              "         3.85458932e-01, -3.06771793e-01, -8.05148822e-01,\n",
              "         1.01889122e+00,  1.12949929e-01, -3.32967924e-01,\n",
              "        -4.47024318e-02, -2.24004764e-01,  3.63038728e-03,\n",
              "        -2.55842637e-04, -1.86751098e-02, -4.35288636e-01,\n",
              "        -5.42811273e-01,  3.98334612e-01,  8.13372600e-03,\n",
              "         9.31750556e-02,  1.04864565e-02,  1.89040568e-01,\n",
              "         2.33839999e-01,  9.37406539e-02,  2.20326803e-01,\n",
              "        -1.40875155e-01,  1.77049979e-01,  4.48349558e-02,\n",
              "         1.25380303e-01, -3.86963784e-01,  2.46904109e-01,\n",
              "        -2.32905695e-01, -1.60914653e-01,  1.01754748e+00,\n",
              "         8.88467899e-01,  6.76839474e-01, -5.13855752e-02,\n",
              "         6.16105632e-02,  1.83191549e-01, -3.33381118e-02,\n",
              "        -8.17594881e-05, -2.55842637e-04, -6.98548532e-03,\n",
              "        -3.16767777e-01, -9.56403389e-01,  1.91459799e-01,\n",
              "        -3.85770329e-01, -4.47302028e-01,  3.77589907e-01,\n",
              "        -1.26765711e-01,  2.23712816e-01, -1.67110666e-01,\n",
              "         8.38195843e-02,  5.04398634e-01, -2.54922364e-02,\n",
              "         6.92531184e-02, -1.83002473e-01,  3.74674834e-01,\n",
              "        -6.69118308e-01,  9.48241962e-01,  3.54535332e-02,\n",
              "        -7.82390321e-02, -1.67229059e-01,  7.49700231e-02,\n",
              "         4.65992725e-01,  2.54161300e-01,  3.02391489e-01,\n",
              "         2.16863536e-01, -8.17594881e-05,  0.00000000e+00,\n",
              "         0.00000000e+00, -8.20370570e-02, -3.45219766e-01,\n",
              "         1.27560556e-01,  1.11930129e+00,  5.21158588e-01,\n",
              "        -9.89384265e-01,  3.57453183e-01, -3.69105869e-01,\n",
              "         5.49824413e-01, -1.31589448e-01,  5.36207539e-02,\n",
              "         5.93615438e-03,  2.18875770e-01, -2.64120691e-01,\n",
              "         3.42143461e-01, -1.47526368e-01, -8.34885071e-01,\n",
              "        -2.82098322e-01,  5.19687117e-01, -1.73005040e-01,\n",
              "         2.67938782e-02,  3.05861505e-01,  2.70530856e-01,\n",
              "         3.49920555e-01,  1.90771861e-01,  0.00000000e+00,\n",
              "         0.00000000e+00,  0.00000000e+00, -2.28569049e-02,\n",
              "        -8.97318287e-02, -5.82125983e-01, -2.93067598e-01,\n",
              "        -4.32327065e-01,  3.47457211e-01, -3.28357588e-01,\n",
              "         7.95195779e-01, -4.58626574e-01,  1.85464552e-01,\n",
              "        -2.52754502e-02,  1.25920362e-01,  2.57113107e-01,\n",
              "         2.28104210e-01, -5.27665840e-01,  3.73591602e-01,\n",
              "         4.12030553e-01, -2.37753469e-01, -2.30115915e-01,\n",
              "        -7.10088172e-01,  6.08285053e-02, -4.90375381e-01,\n",
              "         4.68052065e-03, -2.46056261e-01, -5.69387940e-02,\n",
              "         0.00000000e+00,  0.00000000e+00,  0.00000000e+00,\n",
              "        -8.99632434e-04,  1.33677203e-01,  1.80582548e-01,\n",
              "        -3.41917882e-01, -3.11705024e-01, -1.06910656e-01,\n",
              "        -5.64516583e-01,  2.73870541e-01, -7.67438694e-02,\n",
              "         1.49392394e-01, -9.28535263e-02,  3.82581205e-01,\n",
              "        -6.07711053e-01,  4.86209592e-01, -4.79523929e-02,\n",
              "         9.59486433e-03, -2.67978345e-04, -1.69734348e-01,\n",
              "        -5.46999609e-01, -2.18095631e-01,  7.52091299e-01,\n",
              "         7.87226362e-01,  6.11309443e-01, -3.26205446e-04,\n",
              "        -4.16322257e-04,  0.00000000e+00,  0.00000000e+00,\n",
              "         0.00000000e+00,  0.00000000e+00, -3.89062238e-04,\n",
              "        -6.86739819e-03, -5.30604347e-02, -4.71737266e-01,\n",
              "        -1.17651165e+00, -1.82897645e+00, -1.16195878e+00,\n",
              "        -8.54542118e-01, -4.06757167e-01, -4.35103753e-01,\n",
              "        -4.72662716e-01, -1.06311552e+00, -5.67695987e-01,\n",
              "        -6.44342117e-01, -9.55581747e-01, -1.28087151e+00,\n",
              "        -6.52264115e-01, -2.76064105e-01, -7.25317790e-01,\n",
              "        -2.96057689e-01, -1.51995192e-02, -1.61555798e-02,\n",
              "        -1.07611250e-04,  0.00000000e+00,  0.00000000e+00,\n",
              "         0.00000000e+00,  0.00000000e+00,  0.00000000e+00,\n",
              "         0.00000000e+00, -1.13309515e-04, -9.73300272e-04,\n",
              "        -5.16471325e-03, -3.51457732e-02, -5.92805813e-02,\n",
              "        -4.67643471e-02,  3.08560261e-02,  1.45785675e-01,\n",
              "        -4.18828835e-03, -3.97184324e-01, -5.51763621e-01,\n",
              "        -4.10899696e-01, -3.86565534e-01, -2.89435393e-01,\n",
              "        -2.38346479e-01, -1.22811749e-01, -1.13923004e-01,\n",
              "        -3.29460547e-01, -1.88907157e-01, -4.34142964e-03,\n",
              "         0.00000000e+00,  0.00000000e+00,  0.00000000e+00,\n",
              "         0.00000000e+00]])"
            ]
          },
          "metadata": {},
          "execution_count": 19
        }
      ]
    },
    {
      "cell_type": "code",
      "source": [
        "pipe_logit[-1].intercept_\n",
        "#intercept"
      ],
      "metadata": {
        "colab": {
          "base_uri": "https://localhost:8080/"
        },
        "id": "zh_giojvsMEC",
        "outputId": "a7e2f8a7-8739-4762-bd7c-e29722723561"
      },
      "execution_count": 20,
      "outputs": [
        {
          "output_type": "execute_result",
          "data": {
            "text/plain": [
              "array([0.31715902])"
            ]
          },
          "metadata": {},
          "execution_count": 20
        }
      ]
    },
    {
      "cell_type": "markdown",
      "source": [
        "## Prediction and model evaluation\n",
        "\n"
      ],
      "metadata": {
        "id": "V-09_xlgtHy5"
      }
    },
    {
      "cell_type": "code",
      "source": [
        "test_predictions = pipe_logit.predict(images_test)"
      ],
      "metadata": {
        "id": "WH9Fp0v2tJPF"
      },
      "execution_count": 21,
      "outputs": []
    },
    {
      "cell_type": "markdown",
      "source": [
        "Let's print confusion matrix with `ConfusionMatrixDisplay` utility in `sklearn.metrics`"
      ],
      "metadata": {
        "id": "e2U7QaTqtSVw"
      }
    },
    {
      "cell_type": "code",
      "source": [
        "from sklearn.metrics import ConfusionMatrixDisplay\n",
        "import matplotlib.pyplot as plt\n",
        "\n",
        "cm_display = ConfusionMatrixDisplay.from_predictions(test_label_5,\n",
        "                                                     test_predictions,\n",
        "                                                     values_format='.5g') \n",
        "# it return matplotlin plot object\n",
        "plt.show()"
      ],
      "metadata": {
        "colab": {
          "base_uri": "https://localhost:8080/",
          "height": 283
        },
        "id": "7oXuuf1OtRMp",
        "outputId": "e3f1feea-be22-4612-fd6d-5b600fc96bb9"
      },
      "execution_count": 22,
      "outputs": [
        {
          "output_type": "display_data",
          "data": {
            "text/plain": [
              "<Figure size 432x288 with 2 Axes>"
            ],
            "image/png": "[encoded data removed]"
          },
          "metadata": {
            "needs_background": "light"
          }
        }
      ]
    },
    {
      "cell_type": "code",
      "source": [
        "from sklearn.metrics import precision_score, recall_score\n",
        "\n",
        "precision_lr = precision_score(test_label_5, test_predictions)\n",
        "recall_lr = recall_score(test_label_5, test_predictions)\n",
        "\n",
        "from sklearn.metrics import precision_recall_curve\n",
        "\n",
        "prediction_scores = pipe_logit.decision_function(images_test)\n",
        "precisions, recalls, thresholds = precision_recall_curve(\n",
        "    test_label_5, prediction_scores)\n"
      ],
      "metadata": {
        "id": "AzredLXBtZai"
      },
      "execution_count": 24,
      "outputs": []
    },
    {
      "cell_type": "code",
      "source": [
        "plt.figure(figsize=(10,4))\n",
        "plt.plot(recalls[:-1], precisions[:-1], 'b--', label='LogReg')\n",
        "plt.ylabel('Precision')\n",
        "plt.xlabel('Recall')\n",
        "plt.grid(True)\n",
        "plt.legend(loc='lower left')\n",
        "plt.show()"
      ],
      "metadata": {
        "colab": {
          "base_uri": "https://localhost:8080/",
          "height": 279
        },
        "id": "u1yRx1zhtfOM",
        "outputId": "1c9aac48-b752-4067-e581-277b26765da2"
      },
      "execution_count": 25,
      "outputs": [
        {
          "output_type": "display_data",
          "data": {
            "text/plain": [
              "<Figure size 720x288 with 1 Axes>"
            ],
            "image/png": "[encoded data removed]"
          },
          "metadata": {
            "needs_background": "light"
          }
        }
      ]
    },
    {
      "cell_type": "code",
      "source": [
        "from sklearn.metrics import auc\n",
        "auc = auc(recalls[:-1], precisions[:-1])\n",
        "auc"
      ],
      "metadata": {
        "colab": {
          "base_uri": "https://localhost:8080/"
        },
        "id": "rjBiF75Ctu9m",
        "outputId": "db85c8ba-7c9e-4e48-cb85-b0f04faf6eb3"
      },
      "execution_count": 26,
      "outputs": [
        {
          "output_type": "execute_result",
          "data": {
            "text/plain": [
              "0.9108576536514077"
            ]
          },
          "metadata": {},
          "execution_count": 26
        }
      ]
    },
    {
      "cell_type": "markdown",
      "source": [
        "Let's try to tune parameter `C` (Hyper Prameteric Tuning):"
      ],
      "metadata": {
        "id": "NE0j6OWit2-g"
      }
    },
    {
      "cell_type": "code",
      "source": [
        "from sklearn.model_selection import GridSearchCV\n",
        "\n",
        "grid_Cs = [0, 1e-4, 1e-3, 1e-2, 1e-1, 1.0, 10.0, 100.0]\n",
        "\n",
        "scaler = MinMaxScaler()\n",
        "logreg = LogisticRegression(C=1.0, random_state=1729)\n",
        "\n",
        "pipe = Pipeline(steps=[(\"scaler\", scaler), \n",
        "                       (\"logistic\", logreg)])\n",
        "\n",
        "pipe_logit_cv = GridSearchCV(\n",
        "    pipe,\n",
        "    param_grid={\"logistic__C\": grid_Cs},\n",
        "    scoring='f1')\n",
        "pipe_logit_cv.fit(images_train, train_label_5)"
      ],
      "metadata": {
        "colab": {
          "base_uri": "https://localhost:8080/"
        },
        "id": "6h3mmCPQt-v7",
        "outputId": "cf4e3e4b-2cb1-4426-bc2a-7c30f3eb9c89"
      },
      "execution_count": 28,
      "outputs": [
        {
          "output_type": "stream",
          "name": "stderr",
          "text": [
            "/usr/local/lib/python3.7/dist-packages/sklearn/linear_model/_logistic.py:818: ConvergenceWarning: lbfgs failed to converge (status=1):\n",
            "STOP: TOTAL NO. of ITERATIONS REACHED LIMIT.\n",
            "\n",
            "Increase the number of iterations (max_iter) or scale the data as shown in:\n",
            "    https://scikit-learn.org/stable/modules/preprocessing.html\n",
            "Please also refer to the documentation for alternative solver options:\n",
            "    https://scikit-learn.org/stable/modules/linear_model.html#logistic-regression\n",
            "  extra_warning_msg=_LOGISTIC_SOLVER_CONVERGENCE_MSG,\n",
            "/usr/local/lib/python3.7/dist-packages/sklearn/linear_model/_logistic.py:818: ConvergenceWarning: lbfgs failed to converge (status=1):\n",
            "STOP: TOTAL NO. of ITERATIONS REACHED LIMIT.\n",
            "\n",
            "Increase the number of iterations (max_iter) or scale the data as shown in:\n",
            "    https://scikit-learn.org/stable/modules/preprocessing.html\n",
            "Please also refer to the documentation for alternative solver options:\n",
            "    https://scikit-learn.org/stable/modules/linear_model.html#logistic-regression\n",
            "  extra_warning_msg=_LOGISTIC_SOLVER_CONVERGENCE_MSG,\n",
            "/usr/local/lib/python3.7/dist-packages/sklearn/linear_model/_logistic.py:818: ConvergenceWarning: lbfgs failed to converge (status=1):\n",
            "STOP: TOTAL NO. of ITERATIONS REACHED LIMIT.\n",
            "\n",
            "Increase the number of iterations (max_iter) or scale the data as shown in:\n",
            "    https://scikit-learn.org/stable/modules/preprocessing.html\n",
            "Please also refer to the documentation for alternative solver options:\n",
            "    https://scikit-learn.org/stable/modules/linear_model.html#logistic-regression\n",
            "  extra_warning_msg=_LOGISTIC_SOLVER_CONVERGENCE_MSG,\n",
            "/usr/local/lib/python3.7/dist-packages/sklearn/linear_model/_logistic.py:818: ConvergenceWarning: lbfgs failed to converge (status=1):\n",
            "STOP: TOTAL NO. of ITERATIONS REACHED LIMIT.\n",
            "\n",
            "Increase the number of iterations (max_iter) or scale the data as shown in:\n",
            "    https://scikit-learn.org/stable/modules/preprocessing.html\n",
            "Please also refer to the documentation for alternative solver options:\n",
            "    https://scikit-learn.org/stable/modules/linear_model.html#logistic-regression\n",
            "  extra_warning_msg=_LOGISTIC_SOLVER_CONVERGENCE_MSG,\n",
            "/usr/local/lib/python3.7/dist-packages/sklearn/linear_model/_logistic.py:818: ConvergenceWarning: lbfgs failed to converge (status=1):\n",
            "STOP: TOTAL NO. of ITERATIONS REACHED LIMIT.\n",
            "\n",
            "Increase the number of iterations (max_iter) or scale the data as shown in:\n",
            "    https://scikit-learn.org/stable/modules/preprocessing.html\n",
            "Please also refer to the documentation for alternative solver options:\n",
            "    https://scikit-learn.org/stable/modules/linear_model.html#logistic-regression\n",
            "  extra_warning_msg=_LOGISTIC_SOLVER_CONVERGENCE_MSG,\n",
            "/usr/local/lib/python3.7/dist-packages/sklearn/linear_model/_logistic.py:818: ConvergenceWarning: lbfgs failed to converge (status=1):\n",
            "STOP: TOTAL NO. of ITERATIONS REACHED LIMIT.\n",
            "\n",
            "Increase the number of iterations (max_iter) or scale the data as shown in:\n",
            "    https://scikit-learn.org/stable/modules/preprocessing.html\n",
            "Please also refer to the documentation for alternative solver options:\n",
            "    https://scikit-learn.org/stable/modules/linear_model.html#logistic-regression\n",
            "  extra_warning_msg=_LOGISTIC_SOLVER_CONVERGENCE_MSG,\n",
            "/usr/local/lib/python3.7/dist-packages/sklearn/linear_model/_logistic.py:818: ConvergenceWarning: lbfgs failed to converge (status=1):\n",
            "STOP: TOTAL NO. of ITERATIONS REACHED LIMIT.\n",
            "\n",
            "Increase the number of iterations (max_iter) or scale the data as shown in:\n",
            "    https://scikit-learn.org/stable/modules/preprocessing.html\n",
            "Please also refer to the documentation for alternative solver options:\n",
            "    https://scikit-learn.org/stable/modules/linear_model.html#logistic-regression\n",
            "  extra_warning_msg=_LOGISTIC_SOLVER_CONVERGENCE_MSG,\n",
            "/usr/local/lib/python3.7/dist-packages/sklearn/linear_model/_logistic.py:818: ConvergenceWarning: lbfgs failed to converge (status=1):\n",
            "STOP: TOTAL NO. of ITERATIONS REACHED LIMIT.\n",
            "\n",
            "Increase the number of iterations (max_iter) or scale the data as shown in:\n",
            "    https://scikit-learn.org/stable/modules/preprocessing.html\n",
            "Please also refer to the documentation for alternative solver options:\n",
            "    https://scikit-learn.org/stable/modules/linear_model.html#logistic-regression\n",
            "  extra_warning_msg=_LOGISTIC_SOLVER_CONVERGENCE_MSG,\n",
            "/usr/local/lib/python3.7/dist-packages/sklearn/linear_model/_logistic.py:818: ConvergenceWarning: lbfgs failed to converge (status=1):\n",
            "STOP: TOTAL NO. of ITERATIONS REACHED LIMIT.\n",
            "\n",
            "Increase the number of iterations (max_iter) or scale the data as shown in:\n",
            "    https://scikit-learn.org/stable/modules/preprocessing.html\n",
            "Please also refer to the documentation for alternative solver options:\n",
            "    https://scikit-learn.org/stable/modules/linear_model.html#logistic-regression\n",
            "  extra_warning_msg=_LOGISTIC_SOLVER_CONVERGENCE_MSG,\n",
            "/usr/local/lib/python3.7/dist-packages/sklearn/linear_model/_logistic.py:818: ConvergenceWarning: lbfgs failed to converge (status=1):\n",
            "STOP: TOTAL NO. of ITERATIONS REACHED LIMIT.\n",
            "\n",
            "Increase the number of iterations (max_iter) or scale the data as shown in:\n",
            "    https://scikit-learn.org/stable/modules/preprocessing.html\n",
            "Please also refer to the documentation for alternative solver options:\n",
            "    https://scikit-learn.org/stable/modules/linear_model.html#logistic-regression\n",
            "  extra_warning_msg=_LOGISTIC_SOLVER_CONVERGENCE_MSG,\n",
            "/usr/local/lib/python3.7/dist-packages/sklearn/linear_model/_logistic.py:818: ConvergenceWarning: lbfgs failed to converge (status=1):\n",
            "STOP: TOTAL NO. of ITERATIONS REACHED LIMIT.\n",
            "\n",
            "Increase the number of iterations (max_iter) or scale the data as shown in:\n",
            "    https://scikit-learn.org/stable/modules/preprocessing.html\n",
            "Please also refer to the documentation for alternative solver options:\n",
            "    https://scikit-learn.org/stable/modules/linear_model.html#logistic-regression\n",
            "  extra_warning_msg=_LOGISTIC_SOLVER_CONVERGENCE_MSG,\n",
            "/usr/local/lib/python3.7/dist-packages/sklearn/linear_model/_logistic.py:818: ConvergenceWarning: lbfgs failed to converge (status=1):\n",
            "STOP: TOTAL NO. of ITERATIONS REACHED LIMIT.\n",
            "\n",
            "Increase the number of iterations (max_iter) or scale the data as shown in:\n",
            "    https://scikit-learn.org/stable/modules/preprocessing.html\n",
            "Please also refer to the documentation for alternative solver options:\n",
            "    https://scikit-learn.org/stable/modules/linear_model.html#logistic-regression\n",
            "  extra_warning_msg=_LOGISTIC_SOLVER_CONVERGENCE_MSG,\n",
            "/usr/local/lib/python3.7/dist-packages/sklearn/linear_model/_logistic.py:818: ConvergenceWarning: lbfgs failed to converge (status=1):\n",
            "STOP: TOTAL NO. of ITERATIONS REACHED LIMIT.\n",
            "\n",
            "Increase the number of iterations (max_iter) or scale the data as shown in:\n",
            "    https://scikit-learn.org/stable/modules/preprocessing.html\n",
            "Please also refer to the documentation for alternative solver options:\n",
            "    https://scikit-learn.org/stable/modules/linear_model.html#logistic-regression\n",
            "  extra_warning_msg=_LOGISTIC_SOLVER_CONVERGENCE_MSG,\n",
            "/usr/local/lib/python3.7/dist-packages/sklearn/linear_model/_logistic.py:818: ConvergenceWarning: lbfgs failed to converge (status=1):\n",
            "STOP: TOTAL NO. of ITERATIONS REACHED LIMIT.\n",
            "\n",
            "Increase the number of iterations (max_iter) or scale the data as shown in:\n",
            "    https://scikit-learn.org/stable/modules/preprocessing.html\n",
            "Please also refer to the documentation for alternative solver options:\n",
            "    https://scikit-learn.org/stable/modules/linear_model.html#logistic-regression\n",
            "  extra_warning_msg=_LOGISTIC_SOLVER_CONVERGENCE_MSG,\n",
            "/usr/local/lib/python3.7/dist-packages/sklearn/linear_model/_logistic.py:818: ConvergenceWarning: lbfgs failed to converge (status=1):\n",
            "STOP: TOTAL NO. of ITERATIONS REACHED LIMIT.\n",
            "\n",
            "Increase the number of iterations (max_iter) or scale the data as shown in:\n",
            "    https://scikit-learn.org/stable/modules/preprocessing.html\n",
            "Please also refer to the documentation for alternative solver options:\n",
            "    https://scikit-learn.org/stable/modules/linear_model.html#logistic-regression\n",
            "  extra_warning_msg=_LOGISTIC_SOLVER_CONVERGENCE_MSG,\n",
            "/usr/local/lib/python3.7/dist-packages/sklearn/linear_model/_logistic.py:818: ConvergenceWarning: lbfgs failed to converge (status=1):\n",
            "STOP: TOTAL NO. of ITERATIONS REACHED LIMIT.\n",
            "\n",
            "Increase the number of iterations (max_iter) or scale the data as shown in:\n",
            "    https://scikit-learn.org/stable/modules/preprocessing.html\n",
            "Please also refer to the documentation for alternative solver options:\n",
            "    https://scikit-learn.org/stable/modules/linear_model.html#logistic-regression\n",
            "  extra_warning_msg=_LOGISTIC_SOLVER_CONVERGENCE_MSG,\n",
            "/usr/local/lib/python3.7/dist-packages/sklearn/linear_model/_logistic.py:818: ConvergenceWarning: lbfgs failed to converge (status=1):\n",
            "STOP: TOTAL NO. of ITERATIONS REACHED LIMIT.\n",
            "\n",
            "Increase the number of iterations (max_iter) or scale the data as shown in:\n",
            "    https://scikit-learn.org/stable/modules/preprocessing.html\n",
            "Please also refer to the documentation for alternative solver options:\n",
            "    https://scikit-learn.org/stable/modules/linear_model.html#logistic-regression\n",
            "  extra_warning_msg=_LOGISTIC_SOLVER_CONVERGENCE_MSG,\n",
            "/usr/local/lib/python3.7/dist-packages/sklearn/linear_model/_logistic.py:818: ConvergenceWarning: lbfgs failed to converge (status=1):\n",
            "STOP: TOTAL NO. of ITERATIONS REACHED LIMIT.\n",
            "\n",
            "Increase the number of iterations (max_iter) or scale the data as shown in:\n",
            "    https://scikit-learn.org/stable/modules/preprocessing.html\n",
            "Please also refer to the documentation for alternative solver options:\n",
            "    https://scikit-learn.org/stable/modules/linear_model.html#logistic-regression\n",
            "  extra_warning_msg=_LOGISTIC_SOLVER_CONVERGENCE_MSG,\n",
            "/usr/local/lib/python3.7/dist-packages/sklearn/linear_model/_logistic.py:818: ConvergenceWarning: lbfgs failed to converge (status=1):\n",
            "STOP: TOTAL NO. of ITERATIONS REACHED LIMIT.\n",
            "\n",
            "Increase the number of iterations (max_iter) or scale the data as shown in:\n",
            "    https://scikit-learn.org/stable/modules/preprocessing.html\n",
            "Please also refer to the documentation for alternative solver options:\n",
            "    https://scikit-learn.org/stable/modules/linear_model.html#logistic-regression\n",
            "  extra_warning_msg=_LOGISTIC_SOLVER_CONVERGENCE_MSG,\n",
            "/usr/local/lib/python3.7/dist-packages/sklearn/linear_model/_logistic.py:818: ConvergenceWarning: lbfgs failed to converge (status=1):\n",
            "STOP: TOTAL NO. of ITERATIONS REACHED LIMIT.\n",
            "\n",
            "Increase the number of iterations (max_iter) or scale the data as shown in:\n",
            "    https://scikit-learn.org/stable/modules/preprocessing.html\n",
            "Please also refer to the documentation for alternative solver options:\n",
            "    https://scikit-learn.org/stable/modules/linear_model.html#logistic-regression\n",
            "  extra_warning_msg=_LOGISTIC_SOLVER_CONVERGENCE_MSG,\n",
            "/usr/local/lib/python3.7/dist-packages/sklearn/model_selection/_validation.py:372: FitFailedWarning: \n",
            "5 fits failed out of a total of 40.\n",
            "The score on these train-test partitions for these parameters will be set to nan.\n",
            "If these failures are not expected, you can try to debug them by setting error_score='raise'.\n",
            "\n",
            "Below are more details about the failures:\n",
            "--------------------------------------------------------------------------------\n",
            "5 fits failed with the following error:\n",
            "Traceback (most recent call last):\n",
            "  File \"/usr/local/lib/python3.7/dist-packages/sklearn/model_selection/_validation.py\", line 680, in _fit_and_score\n",
            "    estimator.fit(X_train, y_train, **fit_params)\n",
            "  File \"/usr/local/lib/python3.7/dist-packages/sklearn/pipeline.py\", line 394, in fit\n",
            "    self._final_estimator.fit(Xt, y, **fit_params_last_step)\n",
            "  File \"/usr/local/lib/python3.7/dist-packages/sklearn/linear_model/_logistic.py\", line 1614, in fit\n",
            "    for class_, warm_start_coef_ in zip(classes_, warm_start_coef)\n",
            "  File \"/usr/local/lib/python3.7/dist-packages/joblib/parallel.py\", line 1043, in __call__\n",
            "    if self.dispatch_one_batch(iterator):\n",
            "  File \"/usr/local/lib/python3.7/dist-packages/joblib/parallel.py\", line 861, in dispatch_one_batch\n",
            "    self._dispatch(tasks)\n",
            "  File \"/usr/local/lib/python3.7/dist-packages/joblib/parallel.py\", line 779, in _dispatch\n",
            "    job = self._backend.apply_async(batch, callback=cb)\n",
            "  File \"/usr/local/lib/python3.7/dist-packages/joblib/_parallel_backends.py\", line 208, in apply_async\n",
            "    result = ImmediateResult(func)\n",
            "  File \"/usr/local/lib/python3.7/dist-packages/joblib/_parallel_backends.py\", line 572, in __init__\n",
            "    self.results = batch()\n",
            "  File \"/usr/local/lib/python3.7/dist-packages/joblib/parallel.py\", line 263, in __call__\n",
            "    for func, args, kwargs in self.items]\n",
            "  File \"/usr/local/lib/python3.7/dist-packages/joblib/parallel.py\", line 263, in <listcomp>\n",
            "    for func, args, kwargs in self.items]\n",
            "  File \"/usr/local/lib/python3.7/dist-packages/sklearn/utils/fixes.py\", line 216, in __call__\n",
            "    return self.function(*args, **kwargs)\n",
            "  File \"/usr/local/lib/python3.7/dist-packages/sklearn/linear_model/_logistic.py\", line 811, in _logistic_regression_path\n",
            "    args=(X, target, 1.0 / C, sample_weight),\n",
            "ZeroDivisionError: float division by zero\n",
            "\n",
            "  warnings.warn(some_fits_failed_message, FitFailedWarning)\n",
            "/usr/local/lib/python3.7/dist-packages/sklearn/model_selection/_search.py:972: UserWarning: One or more of the test scores are non-finite: [       nan 0.00551336 0.63100933 0.8001337  0.83651766 0.85154515\n",
            " 0.85536295 0.85432963]\n",
            "  category=UserWarning,\n",
            "/usr/local/lib/python3.7/dist-packages/sklearn/linear_model/_logistic.py:818: ConvergenceWarning: lbfgs failed to converge (status=1):\n",
            "STOP: TOTAL NO. of ITERATIONS REACHED LIMIT.\n",
            "\n",
            "Increase the number of iterations (max_iter) or scale the data as shown in:\n",
            "    https://scikit-learn.org/stable/modules/preprocessing.html\n",
            "Please also refer to the documentation for alternative solver options:\n",
            "    https://scikit-learn.org/stable/modules/linear_model.html#logistic-regression\n",
            "  extra_warning_msg=_LOGISTIC_SOLVER_CONVERGENCE_MSG,\n"
          ]
        },
        {
          "output_type": "execute_result",
          "data": {
            "text/plain": [
              "GridSearchCV(estimator=Pipeline(steps=[('scaler', MinMaxScaler()),\n",
              "                                       ('logistic',\n",
              "                                        LogisticRegression(random_state=1729))]),\n",
              "             param_grid={'logistic__C': [0, 0.0001, 0.001, 0.01, 0.1, 1.0, 10.0,\n",
              "                                         100.0]},\n",
              "             scoring='f1')"
            ]
          },
          "metadata": {},
          "execution_count": 28
        }
      ]
    },
    {
      "cell_type": "markdown",
      "source": [
        "The `GridSearchCV` finds the best value of `C` and refits the estimator by default on the entire training set.  This gives us the logistic regression classifier with best value of `C`.\n",
        "\n",
        "We can check the value of the best parameter by accessing the `best_params_` \n",
        "member variable of the `GridSearchCV` object.\n"
      ],
      "metadata": {
        "id": "RgdMhUA3vaYu"
      }
    },
    {
      "cell_type": "code",
      "source": [
        "pipe_logit_cv.best_params_"
      ],
      "metadata": {
        "colab": {
          "base_uri": "https://localhost:8080/"
        },
        "id": "mdtGchnqvbuu",
        "outputId": "aab59ee8-fbbe-46b5-abfc-7fb6c1cb49e5"
      },
      "execution_count": 29,
      "outputs": [
        {
          "output_type": "execute_result",
          "data": {
            "text/plain": [
              "{'logistic__C': 10.0}"
            ]
          },
          "metadata": {},
          "execution_count": 29
        }
      ]
    },
    {
      "cell_type": "code",
      "source": [
        "pipe_logit_cv.best_score_"
      ],
      "metadata": {
        "colab": {
          "base_uri": "https://localhost:8080/"
        },
        "id": "zyQVfXVlvhEg",
        "outputId": "5458db7b-3cd8-4dbf-a6a5-ce6737a113bc"
      },
      "execution_count": 30,
      "outputs": [
        {
          "output_type": "execute_result",
          "data": {
            "text/plain": [
              "0.8553629503031228"
            ]
          },
          "metadata": {},
          "execution_count": 30
        }
      ]
    },
    {
      "cell_type": "code",
      "source": [
        "pipe_logit_cv.best_estimator_"
      ],
      "metadata": {
        "colab": {
          "base_uri": "https://localhost:8080/"
        },
        "id": "1KCaGfOpvlD6",
        "outputId": "211bca91-6817-4005-caef-88dfe70ee982"
      },
      "execution_count": 31,
      "outputs": [
        {
          "output_type": "execute_result",
          "data": {
            "text/plain": [
              "Pipeline(steps=[('scaler', MinMaxScaler()),\n",
              "                ('logistic', LogisticRegression(C=10.0, random_state=1729))])"
            ]
          },
          "metadata": {},
          "execution_count": 31
        }
      ]
    },
    {
      "cell_type": "markdown",
      "source": [
        "## Model evaluation"
      ],
      "metadata": {
        "id": "Qji0oGqlvpF5"
      }
    },
    {
      "cell_type": "code",
      "source": [
        "test_predictions_cv = pipe_logit_cv.best_estimator_.predict(images_test)"
      ],
      "metadata": {
        "id": "5qqDWAyhvowQ"
      },
      "execution_count": 32,
      "outputs": []
    },
    {
      "cell_type": "code",
      "source": [
        "cm_display = ConfusionMatrixDisplay.from_predictions(test_label_5,\n",
        "                                                     test_predictions_cv,\n",
        "                                                     values_format='.5g') \n",
        "plt.show()"
      ],
      "metadata": {
        "colab": {
          "base_uri": "https://localhost:8080/",
          "height": 282
        },
        "id": "Ew_ReNOxvxhR",
        "outputId": "65fa2604-3376-479a-ee15-bb68a8a3ceda"
      },
      "execution_count": 33,
      "outputs": [
        {
          "output_type": "display_data",
          "data": {
            "text/plain": [
              "<Figure size 432x288 with 2 Axes>"
            ],
            "image/png": "[encoded data removed]"
          },
          "metadata": {
            "needs_background": "light"
          }
        }
      ]
    },
    {
      "cell_type": "markdown",
      "source": [
        "So as we can see from the confusion matrix, there are 745 5's truly identified, and 9036 non 5's truly identified."
      ],
      "metadata": {
        "id": "Td1cPbIHwEZW"
      }
    },
    {
      "cell_type": "markdown",
      "source": [
        "## Multi-class classification"
      ],
      "metadata": {
        "id": "ZFomvHwBwUBB"
      }
    },
    {
      "cell_type": "code",
      "source": [
        "pipe_logit_ovr = pipe = Pipeline(\n",
        "    steps=[(\"scaler\", scaler), \n",
        "           (\"logistic\", LogisticRegression(random_state=1729,\n",
        "                                                  solver='lbfgs',\n",
        "                                                  C=np.infty))])\n",
        "pipe_logit_ovr.fit(images_train, label_train)"
      ],
      "metadata": {
        "colab": {
          "base_uri": "https://localhost:8080/"
        },
        "id": "AQ9A3EqOwQo9",
        "outputId": "bb03120e-a196-4dbe-8b1d-01456a308a75"
      },
      "execution_count": 34,
      "outputs": [
        {
          "output_type": "stream",
          "name": "stderr",
          "text": [
            "/usr/local/lib/python3.7/dist-packages/sklearn/linear_model/_logistic.py:818: ConvergenceWarning: lbfgs failed to converge (status=1):\n",
            "STOP: TOTAL NO. of ITERATIONS REACHED LIMIT.\n",
            "\n",
            "Increase the number of iterations (max_iter) or scale the data as shown in:\n",
            "    https://scikit-learn.org/stable/modules/preprocessing.html\n",
            "Please also refer to the documentation for alternative solver options:\n",
            "    https://scikit-learn.org/stable/modules/linear_model.html#logistic-regression\n",
            "  extra_warning_msg=_LOGISTIC_SOLVER_CONVERGENCE_MSG,\n"
          ]
        },
        {
          "output_type": "execute_result",
          "data": {
            "text/plain": [
              "Pipeline(steps=[('scaler', MinMaxScaler()),\n",
              "                ('logistic', LogisticRegression(C=inf, random_state=1729))])"
            ]
          },
          "metadata": {},
          "execution_count": 34
        }
      ]
    },
    {
      "cell_type": "code",
      "source": [
        "predicted_labels = pipe_logit_ovr.predict(images_test)\n",
        "cm_display = ConfusionMatrixDisplay.from_predictions(label_test, predicted_labels,\n",
        "                                                     values_format='.5g')\n",
        "plt.show()"
      ],
      "metadata": {
        "colab": {
          "base_uri": "https://localhost:8080/",
          "height": 279
        },
        "id": "lPgDCE-nwtaA",
        "outputId": "f7cebf52-17e4-4920-9844-bc74f6e27c25"
      },
      "execution_count": 35,
      "outputs": [
        {
          "output_type": "display_data",
          "data": {
            "text/plain": [
              "<Figure size 432x288 with 2 Axes>"
            ],
            "image/png": "[encoded data removed]"
          },
          "metadata": {
            "needs_background": "light"
          }
        }
      ]
    },
    {
      "cell_type": "code",
      "source": [
        "from sklearn.metrics import classification_report\n",
        "\n",
        "print(classification_report(label_test, predicted_labels))"
      ],
      "metadata": {
        "colab": {
          "base_uri": "https://localhost:8080/"
        },
        "id": "6UcVyQPCw_OC",
        "outputId": "4863d5d0-be02-4130-9ed4-38a6bc5532e2"
      },
      "execution_count": 36,
      "outputs": [
        {
          "output_type": "stream",
          "name": "stdout",
          "text": [
            "              precision    recall  f1-score   support\n",
            "\n",
            "           0       0.95      0.98      0.97       980\n",
            "           1       0.96      0.98      0.97      1135\n",
            "           2       0.93      0.90      0.91      1032\n",
            "           3       0.90      0.91      0.91      1010\n",
            "           4       0.94      0.93      0.93       982\n",
            "           5       0.91      0.88      0.89       892\n",
            "           6       0.93      0.95      0.94       958\n",
            "           7       0.94      0.93      0.93      1028\n",
            "           8       0.88      0.88      0.88       974\n",
            "           9       0.91      0.92      0.92      1009\n",
            "\n",
            "    accuracy                           0.93     10000\n",
            "   macro avg       0.92      0.92      0.92     10000\n",
            "weighted avg       0.93      0.93      0.93     10000\n",
            "\n"
          ]
        }
      ]
    },
    {
      "cell_type": "markdown",
      "source": [
        "# Theory"
      ],
      "metadata": {
        "id": "6I2N9dZBxBnb"
      }
    },
    {
      "cell_type": "markdown",
      "source": [
        "### Loss function\n",
        "\\begin{equation}\n",
        "\\operatorname{Loss}=-\\frac{1}{\\substack{\\text { output } \\\\ \\text { size }}} \\sum_{i=1}^{\\substack{\\text { output } \\\\ \\text { size }}} y_{i} \\cdot \\log \\hat{y}_{i}+\\left(1-y_{i}\\right) \\cdot \\log \\left(1-\\hat{y}_{i}\\right)\n",
        "\\end{equation}\n",
        "\n",
        "Here yi is Actual value and y*i is Predicted value"
      ],
      "metadata": {
        "id": "q3NgeND3xDtu"
      }
    }
  ]
}